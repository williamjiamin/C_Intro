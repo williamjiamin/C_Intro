{
 "cells": [
  {
   "cell_type": "markdown",
   "metadata": {},
   "source": [
    "乐学偶得版权所有 lexueoude.com 公众号：乐学Fintech"
   ]
  },
  {
   "cell_type": "markdown",
   "metadata": {},
   "source": [
    "What is special about my class?\n",
    "1)notes and code\n",
    "2)English\n",
    "3)Standard"
   ]
  },
  {
   "cell_type": "markdown",
   "metadata": {},
   "source": [
    "1.History of C:\n",
    "1. Bell Labs,Dennis Ritchie,Ken Thompson \n",
    "2. Unix \n",
    "3. Pascal,BASIC,C is POL（Programmers oriented language）"
   ]
  },
  {
   "cell_type": "markdown",
   "metadata": {},
   "source": [
    "2.Why we choose C as our first language to learn?\n",
    "\n",
    "1)Good Side:\n",
    "One language to rule them all:\n",
    "\n",
    "1.POL（Programmers Oriented Language）:Access to hardware,very simple in converting data,large library, \n",
    "2.Efficiency(speed like assembly language),memory\n",
    "3.Portability(C compilers is everywhere)\n",
    "4.FORTRAN,Python,Unix Operating System\n",
    "\n",
    "2)Bad Side:\n",
    "With great power , comes great responsibility:\n",
    "1.pointer\n",
    "2.difficult"
   ]
  },
  {
   "cell_type": "code",
   "execution_count": null,
   "metadata": {},
   "outputs": [],
   "source": []
  }
 ],
 "metadata": {
  "kernelspec": {
   "display_name": "C",
   "language": "c",
   "name": "c"
  },
  "language_info": {
   "file_extension": ".c",
   "mimetype": "text/plain",
   "name": "c"
  }
 },
 "nbformat": 4,
 "nbformat_minor": 2
}
