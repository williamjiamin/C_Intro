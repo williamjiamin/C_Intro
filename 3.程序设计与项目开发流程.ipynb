{
 "cells": [
  {
   "cell_type": "markdown",
   "metadata": {},
   "source": [
    "乐学偶得版权所有 lexueoude.com 公众号：乐学Fintech"
   ]
  },
  {
   "cell_type": "markdown",
   "metadata": {},
   "source": [
    "1.Ojective !!!\n",
    "2.Draw the Sketch.\n",
    "3.Coding & Commenting\n",
    "4.Compile(Complier)\n",
    "5.Run program(Windows Mac *nix IDEs)\n",
    "6.Testing & Debugging\n",
    "7.Maintaining & Improving \n",
    "\n",
    "Development & Operation ->DevOps"
   ]
  }
 ],
 "metadata": {
  "kernelspec": {
   "display_name": "C",
   "language": "c",
   "name": "c"
  },
  "language_info": {
   "file_extension": ".c",
   "mimetype": "text/plain",
   "name": "c"
  }
 },
 "nbformat": 4,
 "nbformat_minor": 2
}
