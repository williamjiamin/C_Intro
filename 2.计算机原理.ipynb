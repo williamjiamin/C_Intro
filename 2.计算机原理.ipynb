{
 "cells": [
  {
   "cell_type": "markdown",
   "metadata": {},
   "source": [
    "乐学偶得版权所有 lexueoude.com 公众号：乐学Fintech"
   ]
  },
  {
   "cell_type": "markdown",
   "metadata": {},
   "source": [
    "What is Computer？\n",
    "\n",
    "1.CPU（Central Processing Unit）:Computing\n",
    "2.RAM (Random Access Memory):Workspace for programs and files\n",
    "3.SSD(Solid-State Disk) ,Hard Disk\n",
    "4.Keyboard,Mouse,Monitor...etc...\n",
    "\n"
   ]
  },
  {
   "cell_type": "markdown",
   "metadata": {},
   "source": [
    "How does CPU work?"
   ]
  },
  {
   "cell_type": "raw",
   "metadata": {
    "is_egal": true
   },
   "source": [
    "<svg height=\"400\" width=\"100%\"><desc>Created with Snap</desc><defs><filter id=\"Sjtgkt04i10k\" filterUnits=\"userSpaceOnUse\"><feGaussianBlur in=\"SourceAlpha\" stdDeviation=\"3\"></feGaussianBlur><feOffset dx=\"0\" dy=\"2\" result=\"offsetblur\"></feOffset><feFlood flood-color=\"#000000\"></feFlood><feComposite in2=\"offsetblur\" operator=\"in\"></feComposite><feComponentTransfer><feFuncA type=\"linear\" slope=\"1\"></feFuncA></feComponentTransfer><feMerge><feMergeNode></feMergeNode><feMergeNode in=\"SourceGraphic\"></feMergeNode></feMerge></filter><marker viewBox=\"0 0 10 10\" markerWidth=\"10\" markerHeight=\"10\" orient=\"auto\" refX=\"9\" refY=\"3\" id=\"arrowEndMarker\"><polygon points=\"0,0,0,6,9,3,0,0\" fill=\"#323232\" id=\"arrow\" style=\"\"></polygon></marker><marker viewBox=\"0 0 10 10\" markerWidth=\"10\" markerHeight=\"10\" orient=\"auto\" refX=\"0\" refY=\"3\" id=\"arrowStartMarker\"><polygon points=\"0,3,9,0,9,6,0,3\" fill=\"#323232\" id=\"startArrow\" style=\"\"></polygon></marker></defs><g id=\"drup_elem_1\" first-frame=\"1\" last-frame=\"1\" class=\"drupElem\"><rect x=\"292.2624816894531\" y=\"78.39999389648438\" width=\"371\" height=\"199\" fill=\"#ffffff\" stroke=\"#000000\" vector-effect=\"non-scaling-stroke\" style=\"stroke-width: 1;\" class=\"core alignable sub\"></rect><circle cx=\"477.7624816894531\" cy=\"78.39999389648438\" r=\"5\" stroke=\"#000000\" fill=\"#ffffff\" id=\"drup_elem_1_endpoint_0\" style=\"stroke-width: 1; opacity: 0;\" class=\"endPoint up sub\"></circle><circle cx=\"477.7624816894531\" cy=\"277.3999938964844\" r=\"5\" stroke=\"#000000\" fill=\"#ffffff\" id=\"drup_elem_1_endpoint_1\" style=\"stroke-width: 1; opacity: 0;\" class=\"endPoint down sub\"></circle><circle cx=\"292.2624816894531\" cy=\"177.89999389648438\" r=\"5\" stroke=\"#000000\" fill=\"#ffffff\" id=\"drup_elem_1_endpoint_2\" style=\"stroke-width: 1; opacity: 0;\" class=\"endPoint left sub\"></circle><circle cx=\"663.2624816894531\" cy=\"177.89999389648438\" r=\"5\" stroke=\"#000000\" fill=\"#ffffff\" id=\"drup_elem_1_endpoint_3\" style=\"stroke-width: 1; opacity: 0;\" class=\"endPoint right sub\"></circle><circle cx=\"292.2624816894531\" cy=\"78.39999389648438\" r=\"5\" stroke=\"#000000\" fill=\"#ffffff\" id=\"drup_elem_1_endpoint_4\" style=\"stroke-width: 1; opacity: 0;\" class=\"endPoint left-up sub\"></circle><circle cx=\"292.2624816894531\" cy=\"277.3999938964844\" r=\"5\" stroke=\"#000000\" fill=\"#ffffff\" id=\"drup_elem_1_endpoint_5\" style=\"stroke-width: 1; opacity: 0;\" class=\"endPoint left-down sub\"></circle><circle cx=\"663.2624816894531\" cy=\"78.39999389648438\" r=\"5\" stroke=\"#000000\" fill=\"#ffffff\" id=\"drup_elem_1_endpoint_6\" style=\"stroke-width: 1; opacity: 0;\" class=\"endPoint right-up sub\"></circle><circle cx=\"663.2624816894531\" cy=\"277.3999938964844\" r=\"5\" stroke=\"#000000\" fill=\"#ffffff\" id=\"drup_elem_1_endpoint_7\" style=\"stroke-width: 1; opacity: 0;\" class=\"endPoint right-down sub\"></circle><text x=\"477.7624969482422\" y=\"177.89999389648438\" style=\"font-size: 20px; text-anchor: middle; alignment-baseline: central; opacity: 0;\" class=\"egal-label sub\">|</text></g><g id=\"drup_elem_2\" first-frame=\"1\" last-frame=\"1\" class=\"drupElem\"><rect x=\"318.2624816894531\" y=\"136.39999389648438\" width=\"77\" height=\"98\" fill=\"#ffffff\" stroke=\"#000000\" vector-effect=\"non-scaling-stroke\" style=\"stroke-width: 1;\" class=\"core alignable sub\"></rect><circle cx=\"356.7624816894531\" cy=\"136.39999389648438\" r=\"5\" stroke=\"#000000\" fill=\"#ffffff\" id=\"drup_elem_2_endpoint_0\" style=\"stroke-width: 1; opacity: 0;\" class=\"endPoint up sub\"></circle><circle cx=\"356.7624816894531\" cy=\"234.39999389648438\" r=\"5\" stroke=\"#000000\" fill=\"#ffffff\" id=\"drup_elem_2_endpoint_1\" style=\"stroke-width: 1; opacity: 0;\" class=\"endPoint down sub\"></circle><circle cx=\"318.2624816894531\" cy=\"185.39999389648438\" r=\"5\" stroke=\"#000000\" fill=\"#ffffff\" id=\"drup_elem_2_endpoint_2\" style=\"stroke-width: 1; opacity: 0;\" class=\"endPoint left sub\"></circle><circle cx=\"395.2624816894531\" cy=\"185.39999389648438\" r=\"5\" stroke=\"#000000\" fill=\"#ffffff\" id=\"drup_elem_2_endpoint_3\" style=\"stroke-width: 1; opacity: 0;\" class=\"endPoint right sub\"></circle><circle cx=\"318.2624816894531\" cy=\"136.39999389648438\" r=\"5\" stroke=\"#000000\" fill=\"#ffffff\" id=\"drup_elem_2_endpoint_4\" style=\"stroke-width: 1; opacity: 0;\" class=\"endPoint left-up sub\"></circle><circle cx=\"318.2624816894531\" cy=\"234.39999389648438\" r=\"5\" stroke=\"#000000\" fill=\"#ffffff\" id=\"drup_elem_2_endpoint_5\" style=\"stroke-width: 1; opacity: 0;\" class=\"endPoint left-down sub\"></circle><circle cx=\"395.2624816894531\" cy=\"136.39999389648438\" r=\"5\" stroke=\"#000000\" fill=\"#ffffff\" id=\"drup_elem_2_endpoint_6\" style=\"stroke-width: 1; opacity: 0;\" class=\"endPoint right-up sub\"></circle><circle cx=\"395.2624816894531\" cy=\"234.39999389648438\" r=\"5\" stroke=\"#000000\" fill=\"#ffffff\" id=\"drup_elem_2_endpoint_7\" style=\"stroke-width: 1; opacity: 0;\" class=\"endPoint right-down sub\"></circle><text x=\"356.7624816894531\" y=\"185.39999389648438\" style=\"font-size: 20px; text-anchor: middle; alignment-baseline: central; opacity: 0;\" class=\"egal-label sub\">|</text></g><g id=\"drup_elem_3\" first-frame=\"1\" last-frame=\"1\" class=\"drupElem\"><rect x=\"434.2624816894531\" y=\"140.39999389648438\" width=\"81\" height=\"93\" fill=\"#ffffff\" stroke=\"#000000\" vector-effect=\"non-scaling-stroke\" style=\"stroke-width: 1;\" class=\"core alignable sub\"></rect><circle cx=\"474.7624816894531\" cy=\"140.39999389648438\" r=\"5\" stroke=\"#000000\" fill=\"#ffffff\" id=\"drup_elem_3_endpoint_0\" style=\"stroke-width: 1; opacity: 0;\" class=\"endPoint up sub\"></circle><circle cx=\"474.7624816894531\" cy=\"233.39999389648438\" r=\"5\" stroke=\"#000000\" fill=\"#ffffff\" id=\"drup_elem_3_endpoint_1\" style=\"stroke-width: 1; opacity: 0;\" class=\"endPoint down sub\"></circle><circle cx=\"434.2624816894531\" cy=\"186.89999389648438\" r=\"5\" stroke=\"#000000\" fill=\"#ffffff\" id=\"drup_elem_3_endpoint_2\" style=\"stroke-width: 1; opacity: 0;\" class=\"endPoint left sub\"></circle><circle cx=\"515.2624816894531\" cy=\"186.89999389648438\" r=\"5\" stroke=\"#000000\" fill=\"#ffffff\" id=\"drup_elem_3_endpoint_3\" style=\"stroke-width: 1; opacity: 0;\" class=\"endPoint right sub\"></circle><circle cx=\"434.2624816894531\" cy=\"140.39999389648438\" r=\"5\" stroke=\"#000000\" fill=\"#ffffff\" id=\"drup_elem_3_endpoint_4\" style=\"stroke-width: 1; opacity: 0;\" class=\"endPoint left-up sub\"></circle><circle cx=\"434.2624816894531\" cy=\"233.39999389648438\" r=\"5\" stroke=\"#000000\" fill=\"#ffffff\" id=\"drup_elem_3_endpoint_5\" style=\"stroke-width: 1; opacity: 0;\" class=\"endPoint left-down sub\"></circle><circle cx=\"515.2624816894531\" cy=\"140.39999389648438\" r=\"5\" stroke=\"#000000\" fill=\"#ffffff\" id=\"drup_elem_3_endpoint_6\" style=\"stroke-width: 1; opacity: 0;\" class=\"endPoint right-up sub\"></circle><circle cx=\"515.2624816894531\" cy=\"233.39999389648438\" r=\"5\" stroke=\"#000000\" fill=\"#ffffff\" id=\"drup_elem_3_endpoint_7\" style=\"stroke-width: 1; opacity: 0;\" class=\"endPoint right-down sub\"></circle><text x=\"474.76251220703125\" y=\"186.89999389648438\" style=\"font-size: 20px; text-anchor: middle; alignment-baseline: central; opacity: 0;\" class=\"egal-label sub\">|</text></g><g id=\"drup_elem_4\" first-frame=\"1\" last-frame=\"1\" class=\"drupElem\"><rect x=\"540.2624816894531\" y=\"143.39999389648438\" width=\"81\" height=\"89\" fill=\"#ffffff\" stroke=\"#000000\" vector-effect=\"non-scaling-stroke\" style=\"stroke-width: 1;\" class=\"core alignable sub\"></rect><circle cx=\"580.7624816894531\" cy=\"143.39999389648438\" r=\"5\" stroke=\"#000000\" fill=\"#ffffff\" id=\"drup_elem_4_endpoint_0\" style=\"stroke-width: 1; opacity: 0;\" class=\"endPoint up sub\"></circle><circle cx=\"580.7624816894531\" cy=\"232.39999389648438\" r=\"5\" stroke=\"#000000\" fill=\"#ffffff\" id=\"drup_elem_4_endpoint_1\" style=\"stroke-width: 1; opacity: 0;\" class=\"endPoint down sub\"></circle><circle cx=\"540.2624816894531\" cy=\"187.89999389648438\" r=\"5\" stroke=\"#000000\" fill=\"#ffffff\" id=\"drup_elem_4_endpoint_2\" style=\"stroke-width: 1; opacity: 0;\" class=\"endPoint left sub\"></circle><circle cx=\"621.2624816894531\" cy=\"187.89999389648438\" r=\"5\" stroke=\"#000000\" fill=\"#ffffff\" id=\"drup_elem_4_endpoint_3\" style=\"stroke-width: 1; opacity: 0;\" class=\"endPoint right sub\"></circle><circle cx=\"540.2624816894531\" cy=\"143.39999389648438\" r=\"5\" stroke=\"#000000\" fill=\"#ffffff\" id=\"drup_elem_4_endpoint_4\" style=\"stroke-width: 1; opacity: 0;\" class=\"endPoint left-up sub\"></circle><circle cx=\"540.2624816894531\" cy=\"232.39999389648438\" r=\"5\" stroke=\"#000000\" fill=\"#ffffff\" id=\"drup_elem_4_endpoint_5\" style=\"stroke-width: 1; opacity: 0;\" class=\"endPoint left-down sub\"></circle><circle cx=\"621.2624816894531\" cy=\"143.39999389648438\" r=\"5\" stroke=\"#000000\" fill=\"#ffffff\" id=\"drup_elem_4_endpoint_6\" style=\"stroke-width: 1; opacity: 0;\" class=\"endPoint right-up sub\"></circle><circle cx=\"621.2624816894531\" cy=\"232.39999389648438\" r=\"5\" stroke=\"#000000\" fill=\"#ffffff\" id=\"drup_elem_4_endpoint_7\" style=\"stroke-width: 1; opacity: 0;\" class=\"endPoint right-down sub\"></circle><text x=\"580.7625122070312\" y=\"187.89999389648438\" style=\"font-size: 20px; text-anchor: middle; alignment-baseline: central; opacity: 0;\" class=\"egal-label sub\">|</text></g><g id=\"drup_elem_5\" first-frame=\"1\" last-frame=\"1\" class=\"drupElem\"><text x=\"463.2624816894531\" y=\"122.39999389648438\" class=\"core alignable sub egal-label\" style=\"text-anchor: middle; alignment-baseline: central; font-size: 20px;\" data-src=\"CPU\">CPU</text></g><g id=\"drup_elem_6\" first-frame=\"1\" last-frame=\"1\" class=\"drupElem\"><text x=\"337.2624816894531\" y=\"200.39999389648438\" class=\"core alignable sub egal-label\" style=\"text-anchor: middle; alignment-baseline: central; font-size: 20px;\" data-src=\"Register\" transform=\"matrix(1,0,0,1,18,-15)\">Register</text></g><g id=\"drup_elem_7\" first-frame=\"1\" last-frame=\"1\" class=\"drupElem\"><rect x=\"8.262481689453125\" y=\"65.39999389648438\" width=\"225\" height=\"258\" fill=\"#ffffff\" stroke=\"#000000\" vector-effect=\"non-scaling-stroke\" style=\"stroke-width: 1;\" class=\"core alignable sub\"></rect><circle cx=\"120.76248168945312\" cy=\"65.39999389648438\" r=\"5\" stroke=\"#000000\" fill=\"#ffffff\" id=\"drup_elem_7_endpoint_0\" style=\"stroke-width: 1; opacity: 0;\" class=\"endPoint up sub\"></circle><circle cx=\"120.76248168945312\" cy=\"323.3999938964844\" r=\"5\" stroke=\"#000000\" fill=\"#ffffff\" id=\"drup_elem_7_endpoint_1\" style=\"stroke-width: 1; opacity: 0;\" class=\"endPoint down sub\"></circle><circle cx=\"8.262481689453125\" cy=\"194.39999389648438\" r=\"5\" stroke=\"#000000\" fill=\"#ffffff\" id=\"drup_elem_7_endpoint_2\" style=\"stroke-width: 1; opacity: 0;\" class=\"endPoint left sub\"></circle><circle cx=\"233.26248168945312\" cy=\"194.39999389648438\" r=\"5\" stroke=\"#000000\" fill=\"#ffffff\" id=\"drup_elem_7_endpoint_3\" style=\"stroke-width: 1; opacity: 0;\" class=\"endPoint right sub\"></circle><circle cx=\"8.262481689453125\" cy=\"65.39999389648438\" r=\"5\" stroke=\"#000000\" fill=\"#ffffff\" id=\"drup_elem_7_endpoint_4\" style=\"stroke-width: 1; opacity: 0;\" class=\"endPoint left-up sub\"></circle><circle cx=\"8.262481689453125\" cy=\"323.3999938964844\" r=\"5\" stroke=\"#000000\" fill=\"#ffffff\" id=\"drup_elem_7_endpoint_5\" style=\"stroke-width: 1; opacity: 0;\" class=\"endPoint left-down sub\"></circle><circle cx=\"233.26248168945312\" cy=\"65.39999389648438\" r=\"5\" stroke=\"#000000\" fill=\"#ffffff\" id=\"drup_elem_7_endpoint_6\" style=\"stroke-width: 1; opacity: 0;\" class=\"endPoint right-up sub\"></circle><circle cx=\"233.26248168945312\" cy=\"323.3999938964844\" r=\"5\" stroke=\"#000000\" fill=\"#ffffff\" id=\"drup_elem_7_endpoint_7\" style=\"stroke-width: 1; opacity: 0;\" class=\"endPoint right-down sub\"></circle><text x=\"120.76248168945312\" y=\"194.39999389648438\" style=\"font-size: 20px; text-anchor: middle; alignment-baseline: central; opacity: 0;\" class=\"egal-label sub\">|</text></g><g id=\"drup_elem_8\" first-frame=\"1\" last-frame=\"1\" class=\"drupElem\"><text x=\"63.262481689453125\" y=\"191.39999389648438\" class=\"core alignable sub egal-label\" style=\"text-anchor: middle; alignment-baseline: central; font-size: 20px;\" data-src=\"Memory(RAM)\" transform=\"matrix(1,0,0,1,35,-2)\">Memory(RAM)</text></g><g id=\"drup_elem_9\" first-frame=\"1\" last-frame=\"1\" class=\"drupElem\"><line x1=\"233.26248168945312\" x2=\"292.2624816894531\" y1=\"194.39999389648438\" y2=\"177.89999389648438\" stroke=\"#000000\" data-n1=\"drup_elem_7_endpoint_3\" style=\"marker-end: url(&quot;#arrowEndMarker&quot;);\" class=\"connector egal-line core\" data-n2=\"drup_elem_1_endpoint_2\"></line><text x=\"262.7624816894531\" y=\"186.14999389648438\" style=\"font-size: 20px; text-anchor: middle; alignment-baseline: central; opacity: 0;\" class=\"egal-label sub\">|</text></g></svg>"
   ]
  },
  {
   "cell_type": "markdown",
   "metadata": {},
   "source": [
    "1.Number\n",
    "2.Program->machine language\n",
    "\n",
    "1) RAM 1 -> Register 1\n",
    "2) RAM 2 -> Register 2\n",
    "3) Register 1 +Register 2 -> Register 1\n",
    "4) Register 1 -> RAM 3"
   ]
  },
  {
   "cell_type": "markdown",
   "metadata": {},
   "source": [
    "Machine Language--High-Level Language--Natural Language(English)\n",
    "\n",
    "Hight-Level Language--Natural Language(English): Us\n",
    "Machine Language--High-Level Language: Compiler(program)\n"
   ]
  },
  {
   "cell_type": "markdown",
   "metadata": {},
   "source": [
    "ANSI(American National Standards Institute) ,ISO(International Organization for Standardization)\n",
    "\n",
    "C89(ANSI) C90(ISO):\n",
    "1.Trust Us!\n",
    "2.Don't Prevent\n",
    "3.Small and Simple\n",
    "4.Operation one way to do it\n",
    "5.Fast\n"
   ]
  },
  {
   "cell_type": "markdown",
   "metadata": {},
   "source": [
    "C9X Committe 1994 1.Internationalization 2.Improvement -> C99 C++"
   ]
  },
  {
   "cell_type": "code",
   "execution_count": null,
   "metadata": {},
   "outputs": [],
   "source": [
    "C11 2007: 1. Optional 2.Concurrent Programming\n",
    "C18- \n",
    "Embedded C:"
   ]
  }
 ],
 "metadata": {
  "kernelspec": {
   "display_name": "C",
   "language": "c",
   "name": "c"
  },
  "language_info": {
   "file_extension": ".c",
   "mimetype": "text/plain",
   "name": "c"
  }
 },
 "nbformat": 4,
 "nbformat_minor": 2
}
